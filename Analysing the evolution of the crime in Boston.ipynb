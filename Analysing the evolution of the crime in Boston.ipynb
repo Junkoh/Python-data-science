{
 "cells": [
  {
   "cell_type": "markdown",
   "metadata": {},
   "source": [
    "# Analysing the evolution of the crime in Boston\n",
    "\n",
    "Through this project, we will analyse the evolution of crime in Boston between 2015 and 2018 and try to find :\n",
    " - How crimes evolved through the years.\n",
    " - What types of crimes are most common over the years.\n",
    " - Where are the most dangerous districts and streets through the years.\n",
    " - Which day crimes are the most frequent over the years.\n",
    " \n",
    "      "
   ]
  },
  {
   "cell_type": "markdown",
   "metadata": {},
   "source": [
    "## Exploring and cleaning the data"
   ]
  },
  {
   "cell_type": "code",
   "execution_count": 1,
   "metadata": {},
   "outputs": [],
   "source": [
    "# read in the data\n",
    "import pandas as pd\n",
    "Crime_Boston = pd.read_csv('CrimeBoston.csv')"
   ]
  },
  {
   "cell_type": "code",
   "execution_count": 2,
   "metadata": {},
   "outputs": [
    {
     "data": {
      "text/html": [
       "<div>\n",
       "<style scoped>\n",
       "    .dataframe tbody tr th:only-of-type {\n",
       "        vertical-align: middle;\n",
       "    }\n",
       "\n",
       "    .dataframe tbody tr th {\n",
       "        vertical-align: top;\n",
       "    }\n",
       "\n",
       "    .dataframe thead th {\n",
       "        text-align: right;\n",
       "    }\n",
       "</style>\n",
       "<table border=\"1\" class=\"dataframe\">\n",
       "  <thead>\n",
       "    <tr style=\"text-align: right;\">\n",
       "      <th></th>\n",
       "      <th>INCIDENT_NUMBER</th>\n",
       "      <th>OFFENSE_CODE</th>\n",
       "      <th>OFFENSE_CODE_GROUP</th>\n",
       "      <th>OFFENSE_DESCRIPTION</th>\n",
       "      <th>DISTRICT</th>\n",
       "      <th>REPORTING_AREA</th>\n",
       "      <th>SHOOTING</th>\n",
       "      <th>OCCURRED_ON_DATE</th>\n",
       "      <th>YEAR</th>\n",
       "      <th>MONTH</th>\n",
       "      <th>DAY_OF_WEEK</th>\n",
       "      <th>HOUR</th>\n",
       "      <th>UCR_PART</th>\n",
       "      <th>STREET</th>\n",
       "      <th>Lat</th>\n",
       "      <th>Long</th>\n",
       "      <th>Location</th>\n",
       "    </tr>\n",
       "  </thead>\n",
       "  <tbody>\n",
       "    <tr>\n",
       "      <th>0</th>\n",
       "      <td>I182070945</td>\n",
       "      <td>619</td>\n",
       "      <td>Larceny</td>\n",
       "      <td>LARCENY ALL OTHERS</td>\n",
       "      <td>D14</td>\n",
       "      <td>808</td>\n",
       "      <td>NaN</td>\n",
       "      <td>2018-09-02 13:00:00</td>\n",
       "      <td>2018</td>\n",
       "      <td>9</td>\n",
       "      <td>Sunday</td>\n",
       "      <td>13</td>\n",
       "      <td>Part One</td>\n",
       "      <td>LINCOLN ST</td>\n",
       "      <td>42.357791</td>\n",
       "      <td>-71.139371</td>\n",
       "      <td>(42.35779134, -71.13937053)</td>\n",
       "    </tr>\n",
       "    <tr>\n",
       "      <th>1</th>\n",
       "      <td>I182070943</td>\n",
       "      <td>1402</td>\n",
       "      <td>Vandalism</td>\n",
       "      <td>VANDALISM</td>\n",
       "      <td>C11</td>\n",
       "      <td>347</td>\n",
       "      <td>NaN</td>\n",
       "      <td>2018-08-21 00:00:00</td>\n",
       "      <td>2018</td>\n",
       "      <td>8</td>\n",
       "      <td>Tuesday</td>\n",
       "      <td>0</td>\n",
       "      <td>Part Two</td>\n",
       "      <td>HECLA ST</td>\n",
       "      <td>42.306821</td>\n",
       "      <td>-71.060300</td>\n",
       "      <td>(42.30682138, -71.06030035)</td>\n",
       "    </tr>\n",
       "    <tr>\n",
       "      <th>2</th>\n",
       "      <td>I182070941</td>\n",
       "      <td>3410</td>\n",
       "      <td>Towed</td>\n",
       "      <td>TOWED MOTOR VEHICLE</td>\n",
       "      <td>D4</td>\n",
       "      <td>151</td>\n",
       "      <td>NaN</td>\n",
       "      <td>2018-09-03 19:27:00</td>\n",
       "      <td>2018</td>\n",
       "      <td>9</td>\n",
       "      <td>Monday</td>\n",
       "      <td>19</td>\n",
       "      <td>Part Three</td>\n",
       "      <td>CAZENOVE ST</td>\n",
       "      <td>42.346589</td>\n",
       "      <td>-71.072429</td>\n",
       "      <td>(42.34658879, -71.07242943)</td>\n",
       "    </tr>\n",
       "    <tr>\n",
       "      <th>3</th>\n",
       "      <td>I182070940</td>\n",
       "      <td>3114</td>\n",
       "      <td>Investigate Property</td>\n",
       "      <td>INVESTIGATE PROPERTY</td>\n",
       "      <td>D4</td>\n",
       "      <td>272</td>\n",
       "      <td>NaN</td>\n",
       "      <td>2018-09-03 21:16:00</td>\n",
       "      <td>2018</td>\n",
       "      <td>9</td>\n",
       "      <td>Monday</td>\n",
       "      <td>21</td>\n",
       "      <td>Part Three</td>\n",
       "      <td>NEWCOMB ST</td>\n",
       "      <td>42.334182</td>\n",
       "      <td>-71.078664</td>\n",
       "      <td>(42.33418175, -71.07866441)</td>\n",
       "    </tr>\n",
       "    <tr>\n",
       "      <th>4</th>\n",
       "      <td>I182070938</td>\n",
       "      <td>3114</td>\n",
       "      <td>Investigate Property</td>\n",
       "      <td>INVESTIGATE PROPERTY</td>\n",
       "      <td>B3</td>\n",
       "      <td>421</td>\n",
       "      <td>NaN</td>\n",
       "      <td>2018-09-03 21:05:00</td>\n",
       "      <td>2018</td>\n",
       "      <td>9</td>\n",
       "      <td>Monday</td>\n",
       "      <td>21</td>\n",
       "      <td>Part Three</td>\n",
       "      <td>DELHI ST</td>\n",
       "      <td>42.275365</td>\n",
       "      <td>-71.090361</td>\n",
       "      <td>(42.27536542, -71.09036101)</td>\n",
       "    </tr>\n",
       "  </tbody>\n",
       "</table>\n",
       "</div>"
      ],
      "text/plain": [
       "  INCIDENT_NUMBER  OFFENSE_CODE    OFFENSE_CODE_GROUP   OFFENSE_DESCRIPTION  \\\n",
       "0      I182070945           619               Larceny    LARCENY ALL OTHERS   \n",
       "1      I182070943          1402             Vandalism             VANDALISM   \n",
       "2      I182070941          3410                 Towed   TOWED MOTOR VEHICLE   \n",
       "3      I182070940          3114  Investigate Property  INVESTIGATE PROPERTY   \n",
       "4      I182070938          3114  Investigate Property  INVESTIGATE PROPERTY   \n",
       "\n",
       "  DISTRICT REPORTING_AREA SHOOTING     OCCURRED_ON_DATE  YEAR  MONTH  \\\n",
       "0      D14            808      NaN  2018-09-02 13:00:00  2018      9   \n",
       "1      C11            347      NaN  2018-08-21 00:00:00  2018      8   \n",
       "2       D4            151      NaN  2018-09-03 19:27:00  2018      9   \n",
       "3       D4            272      NaN  2018-09-03 21:16:00  2018      9   \n",
       "4       B3            421      NaN  2018-09-03 21:05:00  2018      9   \n",
       "\n",
       "  DAY_OF_WEEK  HOUR    UCR_PART       STREET        Lat       Long  \\\n",
       "0      Sunday    13    Part One   LINCOLN ST  42.357791 -71.139371   \n",
       "1     Tuesday     0    Part Two     HECLA ST  42.306821 -71.060300   \n",
       "2      Monday    19  Part Three  CAZENOVE ST  42.346589 -71.072429   \n",
       "3      Monday    21  Part Three   NEWCOMB ST  42.334182 -71.078664   \n",
       "4      Monday    21  Part Three     DELHI ST  42.275365 -71.090361   \n",
       "\n",
       "                      Location  \n",
       "0  (42.35779134, -71.13937053)  \n",
       "1  (42.30682138, -71.06030035)  \n",
       "2  (42.34658879, -71.07242943)  \n",
       "3  (42.33418175, -71.07866441)  \n",
       "4  (42.27536542, -71.09036101)  "
      ]
     },
     "execution_count": 2,
     "metadata": {},
     "output_type": "execute_result"
    }
   ],
   "source": [
    "# quick exploration og the data\n",
    "Crime_Boston.head()"
   ]
  },
  {
   "cell_type": "code",
   "execution_count": 3,
   "metadata": {},
   "outputs": [
    {
     "data": {
      "text/plain": [
       "(319073, 17)"
      ]
     },
     "execution_count": 3,
     "metadata": {},
     "output_type": "execute_result"
    }
   ],
   "source": [
    "Crime_Boston.shape"
   ]
  },
  {
   "cell_type": "markdown",
   "metadata": {},
   "source": [
    "We are going to delete some useless columns and raws"
   ]
  },
  {
   "cell_type": "code",
   "execution_count": 4,
   "metadata": {},
   "outputs": [],
   "source": [
    "# We drop these 4 columns which are useless for our analysis\n",
    "Crime_Boston.drop([\"SHOOTING\", \"Lat\", \"Long\", \"Location\"], axis=1, inplace=True)"
   ]
  },
  {
   "cell_type": "code",
   "execution_count": 5,
   "metadata": {
    "scrolled": true
   },
   "outputs": [
    {
     "data": {
      "text/plain": [
       "INCIDENT_NUMBER            0\n",
       "OFFENSE_CODE               0\n",
       "OFFENSE_CODE_GROUP         0\n",
       "OFFENSE_DESCRIPTION        0\n",
       "DISTRICT                1765\n",
       "REPORTING_AREA             0\n",
       "OCCURRED_ON_DATE           0\n",
       "YEAR                       0\n",
       "MONTH                      0\n",
       "DAY_OF_WEEK                0\n",
       "HOUR                       0\n",
       "UCR_PART                  90\n",
       "STREET                 10871\n",
       "dtype: int64"
      ]
     },
     "execution_count": 5,
     "metadata": {},
     "output_type": "execute_result"
    }
   ],
   "source": [
    "# We now verify that the data is clean enough to be used properly\n",
    "Crime_Boston.isnull().sum()"
   ]
  },
  {
   "cell_type": "code",
   "execution_count": 6,
   "metadata": {},
   "outputs": [],
   "source": [
    "# We delete rows with missing values for the \"STREET\" column\n",
    "Crime_Boston.dropna(subset=[\"STREET\"], inplace=True)"
   ]
  },
  {
   "cell_type": "code",
   "execution_count": 7,
   "metadata": {},
   "outputs": [
    {
     "data": {
      "text/plain": [
       "(308202, 13)"
      ]
     },
     "execution_count": 7,
     "metadata": {},
     "output_type": "execute_result"
    }
   ],
   "source": [
    "Crime_Boston.shape"
   ]
  },
  {
   "cell_type": "markdown",
   "metadata": {},
   "source": [
    "## Finding how the number of crimes evolved through years in Boston"
   ]
  },
  {
   "cell_type": "code",
   "execution_count": 13,
   "metadata": {},
   "outputs": [
    {
     "name": "stdout",
     "output_type": "stream",
     "text": [
      "The total of crimes reported for Boston in 2015 was equal to 52106\n",
      "The total of crimes reported for Boston in 2016 was equal to 93399\n",
      "The total of crimes reported for Boston in 2017 was equal to 98155\n",
      "The total of crimes reported for Boston in 2018 was equal to 64542\n"
     ]
    },
    {
     "data": {
      "text/plain": [
       "Text(0, 0.5, 'Total crimes')"
      ]
     },
     "execution_count": 13,
     "metadata": {},
     "output_type": "execute_result"
    },
    {
     "data": {
      "image/png": "[encoded data removed]",
      "text/plain": [
       "<Figure size 432x288 with 1 Axes>"
      ]
     },
     "metadata": {
      "needs_background": "light"
     },
     "output_type": "display_data"
    }
   ],
   "source": [
    "import matplotlib.pyplot as plt\n",
    "for i in range(2015, 2019):\n",
    "    total_crime = Crime_Boston[\"OFFENSE_CODE_GROUP\"][Crime_Boston[\"YEAR\"] == i].value_counts().sum()\n",
    "    print(\"The total of crimes reported for Boston in \" + str(i) + \" was equal to \" + str(total_crime))\n",
    "\n",
    "number_crimes = [52106, 93399, 98155, 64542]\n",
    "year = [2015, 2016, 2017, 2018]\n",
    "plt.plot(year, number_crimes)\n",
    "plt.xlabel(\"Year\")\n",
    "plt.ylabel(\"Total crimes\")"
   ]
  },
  {
   "cell_type": "markdown",
   "metadata": {},
   "source": [
    "We can see that the number of crimes reported had increased significantly between 2015 and 2017 and then decreased.\n",
    "We can't say why but there were a sudden increase between 2015 and 2016, and a sudden decrease between 2017 and 2018 of the total number of crimes."
   ]
  },
  {
   "cell_type": "markdown",
   "metadata": {},
   "source": [
    "## Finding most common type of crimes through years in Boston"
   ]
  },
  {
   "cell_type": "code",
   "execution_count": 9,
   "metadata": {},
   "outputs": [
    {
     "name": "stdout",
     "output_type": "stream",
     "text": [
      "2015\n",
      "count                               52106\n",
      "unique                                 62\n",
      "top       Motor Vehicle Accident Response\n",
      "freq                                 5428\n",
      "Name: OFFENSE_CODE_GROUP, dtype: object\n",
      "\n",
      "\n",
      "2016\n",
      "count                               93399\n",
      "unique                                 65\n",
      "top       Motor Vehicle Accident Response\n",
      "freq                                 9679\n",
      "Name: OFFENSE_CODE_GROUP, dtype: object\n",
      "\n",
      "\n",
      "2017\n",
      "count                               98155\n",
      "unique                                 66\n",
      "top       Motor Vehicle Accident Response\n",
      "freq                                11234\n",
      "Name: OFFENSE_CODE_GROUP, dtype: object\n",
      "\n",
      "\n",
      "2018\n",
      "count                               64542\n",
      "unique                                 60\n",
      "top       Motor Vehicle Accident Response\n",
      "freq                                 7410\n",
      "Name: OFFENSE_CODE_GROUP, dtype: object\n",
      "\n",
      "\n"
     ]
    }
   ],
   "source": [
    "for i in range(2015, 2019):\n",
    "    md_district = Crime_Boston[\"OFFENSE_CODE_GROUP\"][Crime_Boston[\"YEAR\"] == i]\n",
    "    print(i)\n",
    "    print(md_district.describe())\n",
    "    print(\"\\n\")"
   ]
  },
  {
   "cell_type": "markdown",
   "metadata": {},
   "source": [
    "Between 2015 and 2018 the most common type of crimes in Boston had always been \"Motor Vehicle Accident Response\""
   ]
  },
  {
   "cell_type": "markdown",
   "metadata": {},
   "source": [
    "## Finding the most dangerous district and streets in Boston through years"
   ]
  },
  {
   "cell_type": "code",
   "execution_count": 10,
   "metadata": {},
   "outputs": [
    {
     "name": "stdout",
     "output_type": "stream",
     "text": [
      "2015\n",
      "count     52027\n",
      "unique       12\n",
      "top          B2\n",
      "freq       8357\n",
      "Name: DISTRICT, dtype: object\n",
      "\n",
      "\n",
      "2016\n",
      "count     93173\n",
      "unique       12\n",
      "top          B2\n",
      "freq      14726\n",
      "Name: DISTRICT, dtype: object\n",
      "\n",
      "\n",
      "2017\n",
      "count     97961\n",
      "unique       12\n",
      "top          B2\n",
      "freq      15305\n",
      "Name: DISTRICT, dtype: object\n",
      "\n",
      "\n",
      "2018\n",
      "count     64323\n",
      "unique       12\n",
      "top          B2\n",
      "freq       9744\n",
      "Name: DISTRICT, dtype: object\n",
      "\n",
      "\n"
     ]
    }
   ],
   "source": [
    "# Finding the most dangerous districts in Boston through years.\n",
    "for i in range(2015, 2019):\n",
    "    md_district = Crime_Boston[\"DISTRICT\"][Crime_Boston[\"YEAR\"] == i]\n",
    "    print(i)\n",
    "    print(md_district.describe())\n",
    "    print(\"\\n\")"
   ]
  },
  {
   "cell_type": "markdown",
   "metadata": {},
   "source": [
    "It seems that the most dangerous district between 2015 and 2018 had always been the B2 one."
   ]
  },
  {
   "cell_type": "code",
   "execution_count": 11,
   "metadata": {},
   "outputs": [
    {
     "name": "stdout",
     "output_type": "stream",
     "text": [
      "2015\n",
      "count             52106\n",
      "unique             3140\n",
      "top       WASHINGTON ST\n",
      "freq               2505\n",
      "Name: STREET, dtype: object\n",
      "\n",
      "\n",
      "2016\n",
      "count             93399\n",
      "unique             3601\n",
      "top       WASHINGTON ST\n",
      "freq               4212\n",
      "Name: STREET, dtype: object\n",
      "\n",
      "\n",
      "2017\n",
      "count             98155\n",
      "unique             3630\n",
      "top       WASHINGTON ST\n",
      "freq               4440\n",
      "Name: STREET, dtype: object\n",
      "\n",
      "\n",
      "2018\n",
      "count             64542\n",
      "unique             3282\n",
      "top       WASHINGTON ST\n",
      "freq               3037\n",
      "Name: STREET, dtype: object\n",
      "\n",
      "\n"
     ]
    }
   ],
   "source": [
    "# finding most dangerous streets in Boston through years.\n",
    "for i in range(2015, 2019):\n",
    "    md_street = Crime_Boston[\"STREET\"][Crime_Boston[\"YEAR\"] == i]\n",
    "    print(i)\n",
    "    print(md_street.describe())\n",
    "    print(\"\\n\")"
   ]
  },
  {
   "cell_type": "markdown",
   "metadata": {},
   "source": [
    "So between 2015 and 2018, it seems that the most dangerous street had always been \"Washington ST\""
   ]
  },
  {
   "cell_type": "markdown",
   "metadata": {},
   "source": [
    "## Finding the day when crimes are the most committed"
   ]
  },
  {
   "cell_type": "code",
   "execution_count": 12,
   "metadata": {},
   "outputs": [
    {
     "name": "stdout",
     "output_type": "stream",
     "text": [
      "2015\n",
      "count      52106\n",
      "unique         7\n",
      "top       Friday\n",
      "freq        7827\n",
      "Name: DAY_OF_WEEK, dtype: object\n",
      "\n",
      "\n",
      "2016\n",
      "count      93399\n",
      "unique         7\n",
      "top       Friday\n",
      "freq       14185\n",
      "Name: DAY_OF_WEEK, dtype: object\n",
      "\n",
      "\n",
      "2017\n",
      "count      98155\n",
      "unique         7\n",
      "top       Friday\n",
      "freq       15045\n",
      "Name: DAY_OF_WEEK, dtype: object\n",
      "\n",
      "\n",
      "2018\n",
      "count      64542\n",
      "unique         7\n",
      "top       Friday\n",
      "freq        9795\n",
      "Name: DAY_OF_WEEK, dtype: object\n",
      "\n",
      "\n"
     ]
    }
   ],
   "source": [
    "for i in range(2015, 2019):\n",
    "    md_street = Crime_Boston[\"DAY_OF_WEEK\"][Crime_Boston[\"YEAR\"] == i]\n",
    "    print(i)\n",
    "    print(md_street.describe())\n",
    "    print(\"\\n\")"
   ]
  },
  {
   "cell_type": "markdown",
   "metadata": {},
   "source": [
    "The data show that most of the crimes were commited on Friday"
   ]
  },
  {
   "cell_type": "markdown",
   "metadata": {},
   "source": [
    "Finally, through this project, we analysed the evolution of the crime in Boston between 2015 and 2018\n",
    "We found that :\n",
    "- the total number of crimes has increased and then decreased \n",
    "- the most committed type of crimes was \"Motor Vehicle Accident Response\"\n",
    "- the most dangerous district was the district \"B2\" and the most dangerous street was Washington ST\n",
    "- the day when crimes were the most committed was Friday  "
   ]
  },
  {
   "cell_type": "code",
   "execution_count": null,
   "metadata": {},
   "outputs": [],
   "source": []
  }
 ],
 "metadata": {
  "kernelspec": {
   "display_name": "Python 3",
   "language": "python",
   "name": "python3"
  },
  "language_info": {
   "codemirror_mode": {
    "name": "ipython",
    "version": 3
   },
   "file_extension": ".py",
   "mimetype": "text/x-python",
   "name": "python",
   "nbconvert_exporter": "python",
   "pygments_lexer": "ipython3",
   "version": "3.7.3"
  }
 },
 "nbformat": 4,
 "nbformat_minor": 2
}
